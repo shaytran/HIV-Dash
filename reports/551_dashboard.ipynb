{
 "cells": [
  {
   "cell_type": "code",
   "execution_count": 6,
   "metadata": {},
   "outputs": [],
   "source": [
    "import pandas as pd\n",
    "import numpy as np\n",
    "from dash import Dash, html, dcc\n",
    "from dash.dependencies import Input, Output\n",
    "import dash_bootstrap_components as dbc\n",
    "import altair as alt\n",
    "import dash_html_components as html\n",
    "import json\n",
    "\n",
    "# Reading in the csv\n",
    "df = pd.read_csv(\"../data/raw/HIV.csv\", low_memory=False)"
   ]
  },
  {
   "cell_type": "code",
   "execution_count": null,
   "metadata": {},
   "outputs": [
    {
     "name": "stdout",
     "output_type": "stream",
     "text": [
      "<class 'pandas.core.frame.DataFrame'>\n",
      "RangeIndex: 40540 entries, 0 to 40539\n",
      "Data columns (total 22 columns):\n",
      " #   Column                                                                          Non-Null Count  Dtype  \n",
      "---  ------                                                                          --------------  -----  \n",
      " 0   DATAFLOW                                                                        40540 non-null  object \n",
      " 1   REF_AREA:Geographic area                                                        40540 non-null  object \n",
      " 2   INDICATOR:Indicator                                                             40540 non-null  object \n",
      " 3   SEX:Sex                                                                         40540 non-null  object \n",
      " 4   TIME_PERIOD:Time period                                                         40540 non-null  object \n",
      " 5   OBS_VALUE:Observation Value                                                     40540 non-null  object \n",
      " 6   UNIT_MULTIPLIER:Unit multiplier                                                 40540 non-null  object \n",
      " 7   UNIT_MEASURE:Unit of measure                                                    40540 non-null  object \n",
      " 8   OBS_STATUS:Observation Status                                                   40540 non-null  object \n",
      " 9   OBS_CONF:Observation confidentaility                                            40540 non-null  object \n",
      " 10  LOWER_BOUND:Lower Bound                                                         32805 non-null  object \n",
      " 11  UPPER_BOUND:Upper Bound                                                         29021 non-null  object \n",
      " 12  WGTD_SAMPL_SIZE:Weighted Sample Size                                            0 non-null      float64\n",
      " 13  OBS_FOOTNOTE:Observation footnote                                               0 non-null      float64\n",
      " 14  SERIES_FOOTNOTE:Series footnote                                                 39642 non-null  object \n",
      " 15  DATA_SOURCE:Data Source                                                         40540 non-null  object \n",
      " 16  SOURCE_LINK:Citation of or link to the data source                              39642 non-null  object \n",
      " 17  CUSTODIAN:Custodian                                                             0 non-null      float64\n",
      " 18  TIME_PERIOD_METHOD:Time period activity related to when the data are collected  898 non-null    object \n",
      " 19  REF_PERIOD:Reference Period                                                     0 non-null      float64\n",
      " 20  COVERAGE_TIME:The period of time for which data are provided                    40540 non-null  object \n",
      " 21  AGE:Current age                                                                 40540 non-null  object \n",
      "dtypes: float64(4), object(18)\n",
      "memory usage: 6.8+ MB\n"
     ]
    }
   ],
   "source": [
    "df.info()"
   ]
  },
  {
   "cell_type": "markdown",
   "metadata": {},
   "source": [
    "Pivot the dataframe to have each indicator on seperate column and remove the string before the column symbol on each column name \\\n",
    "Since we are only going to look at the full picture of each country in terms of gender, we will only keep the rows where the Sex column equals to Total."
   ]
  },
  {
   "cell_type": "code",
   "execution_count": null,
   "metadata": {},
   "outputs": [],
   "source": [
    "df_new = df.pivot_table(values='OBS_VALUE:Observation Value', index=['REF_AREA:Geographic area', 'SEX:Sex', 'TIME_PERIOD:Time period', 'UNIT_MEASURE:Unit of measure'], columns='INDICATOR:Indicator', dropna=True, aggfunc='first')\n",
    "df_new.reset_index(inplace=True)\n",
    "df_new.columns = df_new.columns.str.split(':').str[-1].str.strip()\n",
    "df_new['Geographic area'] = df_new['Geographic area'].str.split(':').str[-1].str.strip()\n",
    "df_new['Sex'] = df_new['Sex'].str.split(':').str[-1].str.strip()\n",
    "df_new['Unit of measure'] = df_new['Unit of measure'].str.split(':').str[-1].str.strip()\n",
    "df_new = df_new[df_new['Sex'] == 'Total']"
   ]
  },
  {
   "cell_type": "markdown",
   "metadata": {},
   "source": [
    "Check if there are any empty columns "
   ]
  },
  {
   "cell_type": "code",
   "execution_count": null,
   "metadata": {},
   "outputs": [
    {
     "name": "stdout",
     "output_type": "stream",
     "text": [
      "<class 'pandas.core.frame.DataFrame'>\n",
      "Index: 13892 entries, 94 to 27616\n",
      "Data columns (total 21 columns):\n",
      " #   Column                                                                                                                                                                     Non-Null Count  Dtype \n",
      "---  ------                                                                                                                                                                     --------------  ----- \n",
      " 0   Geographic area                                                                                                                                                            13892 non-null  object\n",
      " 1   Sex                                                                                                                                                                        13892 non-null  object\n",
      " 2   Time period                                                                                                                                                                13892 non-null  object\n",
      " 3   Unit of measure                                                                                                                                                            13892 non-null  object\n",
      " 4   Estimated rate of annual AIDS-related deaths (per 100,000 population)                                                                                                      3462 non-null   object\n",
      " 5   Estimated incidence rate (new HIV infection per 1,000 uninfected population)                                                                                               3225 non-null   object\n",
      " 6   Reported number of children (aged 0-14 years) receiving antiretroviral treatment (ART)                                                                                     2989 non-null   object\n",
      " 7   Per cent of infants born to pregnant women living with HIV who received a virological test for HIV within 2 months of birth                                                964 non-null    object\n",
      " 8   Reported number of infants born to pregnant women living with HIV who received a virological test for HIV within 2 months of birth                                         964 non-null    object\n",
      " 9   Estimated number of children (aged 0-17 years) who have lost one or both parents due to all causes                                                                         3508 non-null   object\n",
      " 10  Estimated number of children (aged 0-17 years) who have lost one or both parents due to AIDS                                                                               3508 non-null   object\n",
      " 11  Per cent of pregnant women living with HIV receiving lifelong ART                                                                                                          1261 non-null   object\n",
      " 12  Reported number of pregnant women living with HIV receiving lifelong antiretroviral treatment (ART)                                                                        1261 non-null   object\n",
      " 13  Per cent of pregnant women living with HIV receiving effective ARVs for PMTCT (excludes single-dose nevirapine)                                                            1248 non-null   object\n",
      " 14  Reported number of pregnant woment living with HIV receiving anitretroviral treatments (ARVs) for prevention of mother to child transmission programmes (PMTCT)            1623 non-null   object\n",
      " 15  Mother-to-child HIV transmission rate                                                                                                                                      2255 non-null   object\n",
      " 16  Per cent of young people (aged 15-24 years) who had more than one sexual partner in the past 12 months reporting the use of a condom during their last sexual intercourse  0 non-null      object\n",
      " 17  Per cent of young people (aged 15-24 years) with comprehensive, correct knowledge of HIV                                                                                   1 non-null      object\n",
      " 18  Per cent of young people (aged 15-24 years) who know a place to get tested for HIV                                                                                         0 non-null      object\n",
      " 19  Per cent of people (aged 15-49 years) expressing discriminatory attitudes towards people living with HIV                                                                   0 non-null      object\n",
      " 20  Per cent of young people (aged 15-24 years) who have ever been tested for HIV and received the result of the last test                                                     0 non-null      object\n",
      "dtypes: object(21)\n",
      "memory usage: 2.3+ MB\n"
     ]
    }
   ],
   "source": [
    "df_new.info()"
   ]
  },
  {
   "cell_type": "markdown",
   "metadata": {},
   "source": [
    "Since column 16-20 are almost fully empty, we will remove them from the dataframe "
   ]
  },
  {
   "cell_type": "code",
   "execution_count": null,
   "metadata": {},
   "outputs": [],
   "source": [
    "df_new = df_new.iloc[:, 0:16]"
   ]
  },
  {
   "cell_type": "markdown",
   "metadata": {},
   "source": [
    "Update the data types for variables"
   ]
  },
  {
   "cell_type": "code",
   "execution_count": null,
   "metadata": {},
   "outputs": [
    {
     "name": "stdout",
     "output_type": "stream",
     "text": [
      "<class 'pandas.core.frame.DataFrame'>\n",
      "Index: 13892 entries, 94 to 27616\n",
      "Data columns (total 16 columns):\n",
      " #   Column                                                                                                                                                           Non-Null Count  Dtype  \n",
      "---  ------                                                                                                                                                           --------------  -----  \n",
      " 0   Geographic area                                                                                                                                                  13892 non-null  object \n",
      " 1   Sex                                                                                                                                                              13892 non-null  object \n",
      " 2   Time period                                                                                                                                                      13892 non-null  int32  \n",
      " 3   Unit of measure                                                                                                                                                  13892 non-null  object \n",
      " 4   Estimated rate of annual AIDS-related deaths (per 100,000 population)                                                                                            3462 non-null   object \n",
      " 5   Estimated incidence rate (new HIV infection per 1,000 uninfected population)                                                                                     3225 non-null   object \n",
      " 6   Reported number of children (aged 0-14 years) receiving antiretroviral treatment (ART)                                                                           2989 non-null   float64\n",
      " 7   Per cent of infants born to pregnant women living with HIV who received a virological test for HIV within 2 months of birth                                      964 non-null    object \n",
      " 8   Reported number of infants born to pregnant women living with HIV who received a virological test for HIV within 2 months of birth                               964 non-null    float64\n",
      " 9   Estimated number of children (aged 0-17 years) who have lost one or both parents due to all causes                                                               3508 non-null   float64\n",
      " 10  Estimated number of children (aged 0-17 years) who have lost one or both parents due to AIDS                                                                     3508 non-null   object \n",
      " 11  Per cent of pregnant women living with HIV receiving lifelong ART                                                                                                1261 non-null   object \n",
      " 12  Reported number of pregnant women living with HIV receiving lifelong antiretroviral treatment (ART)                                                              1261 non-null   float64\n",
      " 13  Per cent of pregnant women living with HIV receiving effective ARVs for PMTCT (excludes single-dose nevirapine)                                                  1248 non-null   object \n",
      " 14  Reported number of pregnant woment living with HIV receiving anitretroviral treatments (ARVs) for prevention of mother to child transmission programmes (PMTCT)  1623 non-null   float64\n",
      " 15  Mother-to-child HIV transmission rate                                                                                                                            2255 non-null   object \n",
      "dtypes: float64(5), int32(1), object(10)\n",
      "memory usage: 1.7+ MB\n"
     ]
    }
   ],
   "source": [
    "# Convert time period from string to datetime\n",
    "df_new['Time period'] = pd.to_datetime(df_new['Time period'], format='%Y').dt.year\n",
    "\n",
    "# Convert fully numeric indicators into numeric type \n",
    "def is_numeric(column):\n",
    "    try:\n",
    "        pd.to_numeric(column)\n",
    "        return True\n",
    "    except ValueError:\n",
    "        return False\n",
    "numeric_columns = df_new.iloc[:, 4:16].apply(is_numeric)\n",
    "numeric_column_names = numeric_columns[numeric_columns].index\n",
    "df_new[numeric_column_names] = df_new[numeric_column_names].apply(pd.to_numeric)\n",
    "df_new.info()\n",
    "# df_new.to_csv(\"dash.csv\")"
   ]
  },
  {
   "cell_type": "code",
   "execution_count": null,
   "metadata": {},
   "outputs": [],
   "source": [
    "df_new.drop('Unit of measure', axis=1, inplace=True)\n",
    "\n",
    "# Step 2: Aggregate the data for each 'Geographic area', 'Sex', and 'Time period'\n",
    "# We will take the first non-null value for each group\n",
    "aggregation_functions = {col: 'first' for col in df_new.columns[3:]}\n",
    "df_aggregated = df_new.groupby(['Geographic area', 'Sex', 'Time period'], as_index=False).agg(aggregation_functions)\n",
    "\n",
    "# Drop any remaining rows with all NaN values in the indicator columns\n",
    "df_aggregated.dropna(subset=df_aggregated.columns[3:], how='all', inplace=True)\n",
    "\n",
    "# Reset index to tidy up the DataFrame\n",
    "df_aggregated.reset_index(drop=True, inplace=True)\n",
    "\n"
   ]
  },
  {
   "cell_type": "code",
   "execution_count": null,
   "metadata": {},
   "outputs": [],
   "source": [
    "# Display the transformed DataFrame\n",
    "df_aggregated"
   ]
  },
  {
   "cell_type": "code",
   "execution_count": null,
   "metadata": {},
   "outputs": [
    {
     "data": {
      "text/html": [
       "\n",
       "        <iframe\n",
       "            width=\"100%\"\n",
       "            height=\"650\"\n",
       "            src=\"http://127.0.0.1:8050/\"\n",
       "            frameborder=\"0\"\n",
       "            allowfullscreen\n",
       "            \n",
       "        ></iframe>\n",
       "        "
      ],
      "text/plain": [
       "<IPython.lib.display.IFrame at 0x10f31ead0>"
      ]
     },
     "metadata": {},
     "output_type": "display_data"
    }
   ],
   "source": [
    "app = Dash(__name__, external_stylesheets=[dbc.themes.BOOTSTRAP])\n",
    "\n",
    "app.layout = dbc.Container([\n",
    "    dbc.Tabs([\n",
    "        ### First tab\n",
    "        dbc.Tab([ \n",
    "            html.H1('HIV Indicator Trends by Country and Year'),\n",
    "            html.P('Select an indicator and up to 4 countries to compare their trends over time.'),\n",
    "            dbc.Row([\n",
    "                dbc.Col([\n",
    "                    dcc.Dropdown(\n",
    "                        id='indicator-dropdown',\n",
    "                        value=df_aggregated.columns[3],  # Default value is the first indicator column\n",
    "                        options=[{'label': col, 'value': col} for col in df_aggregated.columns[3:]], \n",
    "                        placeholder='Choose 1 indicator...'),\n",
    "                    dcc.Dropdown(\n",
    "                        id='country-dropdown',\n",
    "                        options=[{'label': country, 'value': country} for country in df_aggregated['Geographic area'].unique()],\n",
    "                        placeholder='Choose up to 4 countries...',\n",
    "                        multi=True)  # Allow multiple selections\n",
    "                ]),\n",
    "            ]),\n",
    "            dbc.Row([\n",
    "                html.Iframe(id='trend-chart', style={'border-width': '0', 'width': '100%', 'height': '400px'}),\n",
    "                dcc.RangeSlider(\n",
    "                        id='year-slider',\n",
    "                        min=df_aggregated['Time period'].min(),\n",
    "                        max=df_aggregated['Time period'].max(),\n",
    "                        marks={str(year): str(year) for year in range(df_aggregated['Time period'].min(), df_aggregated['Time period'].max() + 1)},\n",
    "                        step=1,\n",
    "                        value=[df_aggregated['Time period'].min(), df_aggregated['Time period'].max()]\n",
    "                )\n",
    "            ])\n",
    "        ], label='Indicator Trend'),\n",
    "        ### Second tab\n",
    "        dbc.Tab([html.H1('Indicator map'), \n",
    "                 html.P(\" \")], \n",
    "                 label='Indicator map'),\n",
    "        ### Third tab\n",
    "        dbc.Tab([html.H1('Indicator summary statistics'),\n",
    "                 html.P(\" \")], \n",
    "                 label='Indicator summary statistics')\n",
    "        ])\n",
    "])\n",
    "\n",
    "# Callback for updating the chart based on selections\n",
    "@app.callback(\n",
    "    Output('trend-chart', 'srcDoc'),\n",
    "    [Input('indicator-dropdown', 'value'),\n",
    "     Input('country-dropdown', 'value'),\n",
    "     Input('year-slider', 'value')]\n",
    ")\n",
    "def update_chart(selected_indicator, selected_countries, selected_years):\n",
    "    if selected_countries is None or selected_indicator is None or len(selected_countries) > 4:\n",
    "        return 'Please select an indicator and up to 4 countries.'\n",
    "\n",
    "    # Filter based on the selected years and countries\n",
    "    chart_df = df_aggregated[df_aggregated['Time period'].between(*selected_years)]\n",
    "    chart_df = chart_df[chart_df['Geographic area'].isin(selected_countries)]\n",
    "    \n",
    "    # Create the Altair chart\n",
    "    base = alt.Chart(chart_df).encode(\n",
    "        x=alt.X('Time period:O', axis=alt.Axis(title='Year')),\n",
    "        y=alt.Y(f\"{selected_indicator}:Q\", axis=alt.Axis(title=selected_indicator)),\n",
    "        color='Geographic area:N'\n",
    "    )\n",
    "    \n",
    "    line_chart = base.mark_line(point=True).properties(\n",
    "        width=700,\n",
    "        height=400\n",
    "    )\n",
    "    \n",
    "    return line_chart.to_html()\n",
    "\n",
    "if __name__ == '__main__':\n",
    "    app.run_server(debug=True)"
   ]
  },
  {
   "cell_type": "code",
   "execution_count": null,
   "metadata": {},
   "outputs": [],
   "source": []
  }
 ],
 "metadata": {
  "kernelspec": {
   "display_name": "base",
   "language": "python",
   "name": "python3"
  },
  "language_info": {
   "codemirror_mode": {
    "name": "ipython",
    "version": 3
   },
   "file_extension": ".py",
   "mimetype": "text/x-python",
   "name": "python",
   "nbconvert_exporter": "python",
   "pygments_lexer": "ipython3",
   "version": "3.11.4"
  }
 },
 "nbformat": 4,
 "nbformat_minor": 2
}
